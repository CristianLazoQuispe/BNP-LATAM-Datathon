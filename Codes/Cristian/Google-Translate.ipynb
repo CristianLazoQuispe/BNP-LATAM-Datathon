{
 "metadata": {
  "language_info": {
   "codemirror_mode": {
    "name": "ipython",
    "version": 3
   },
   "file_extension": ".py",
   "mimetype": "text/x-python",
   "name": "python",
   "nbconvert_exporter": "python",
   "pygments_lexer": "ipython3",
   "version": "3.6.9"
  },
  "orig_nbformat": 2,
  "kernelspec": {
   "name": "python3",
   "display_name": "Python 3.6.9 64-bit",
   "metadata": {
    "interpreter": {
     "hash": "db9a28b4f62af69f6a4830e3952c40c333bf495b023702b59ad8043ec76b46c3"
    }
   }
  }
 },
 "nbformat": 4,
 "nbformat_minor": 2,
 "cells": [
  {
   "cell_type": "code",
   "execution_count": 6,
   "metadata": {},
   "outputs": [],
   "source": [
    "import os\n",
    "import utils\n",
    "import numpy as np \n",
    "import pandas as pd\n",
    "from tqdm import tqdm\n",
    "pd.options.display.max_columns = 300"
   ]
  },
  {
   "cell_type": "code",
   "execution_count": 20,
   "metadata": {},
   "outputs": [
    {
     "output_type": "stream",
     "name": "stdout",
     "text": [
      "Requirement already satisfied: google-trans-new in /media/soel/INVESTIGACION/DATATHONES/env_datathon/lib/python3.6/site-packages (1.1.9)\n",
      "\u001b[33mWARNING: You are using pip version 20.0.2; however, version 21.1.1 is available.\n",
      "You should consider upgrading via the '/media/soel/INVESTIGACION/DATATHONES/env_datathon/bin/python -m pip install --upgrade pip' command.\u001b[0m\n"
     ]
    }
   ],
   "source": [
    "!pip install google-trans-new"
   ]
  },
  {
   "cell_type": "code",
   "execution_count": 7,
   "metadata": {},
   "outputs": [],
   "source": [
    "train = pd.read_csv(f'./../../Dataset/food_train.tsv', index_col='Index', encoding='utf-8', sep='\\t')\n",
    "X_train = train.drop(columns = 'target')\n",
    "y_train = train.target\n",
    "del train\n",
    "X_test = pd.read_csv(f'./../../Dataset/food_X_test.tsv', index_col='Index', encoding='latin', sep='\\t')\n",
    "y_test_submission_example = pd.read_csv(f'./../../Dataset/y_test_submission_example.tsv', index_col='Index', encoding='utf-8', sep='\\t')"
   ]
  },
  {
   "cell_type": "code",
   "execution_count": 8,
   "metadata": {},
   "outputs": [],
   "source": [
    "total_dataset = pd.concat([X_train,X_test])"
   ]
  },
  {
   "cell_type": "code",
   "execution_count": 14,
   "metadata": {},
   "outputs": [
    {
     "output_type": "stream",
     "name": "stderr",
     "text": [
      "100%|██████████| 1000/1000 [00:00<00:00, 75913.63it/s]\n"
     ]
    }
   ],
   "source": [
    "textos = []\n",
    "for i in tqdm(range(1000)):\n",
    "    textos.append(str(total_dataset['product_name'].iloc[i]))"
   ]
  },
  {
   "cell_type": "code",
   "execution_count": 15,
   "metadata": {},
   "outputs": [],
   "source": [
    "from google_trans_new import google_translator \n",
    "from multiprocessing.dummy import Pool as ThreadPool\n",
    "import time\n",
    "\n",
    "pool = ThreadPool(16) # Threads\n",
    "\n",
    "def request(text):\n",
    "    t = google_translator(timeout=5)\n",
    "    translate_text = t.translate(text.strip(), 'en')\n",
    "    return translate_text\n",
    "\n",
    "if __name__ == \"__main__\" :\n",
    "    time1 = time.time()\n",
    "    try:\n",
    "        results = pool.map(request, textos)\n",
    "    except Exception as e:\n",
    "        raise e\n",
    "    pool.close()\n",
    "    pool.join()\n",
    "\n",
    "    time2 = time.time()\n"
   ]
  },
  {
   "cell_type": "code",
   "execution_count": 16,
   "metadata": {},
   "outputs": [
    {
     "output_type": "stream",
     "name": "stdout",
     "text": [
      "Translating 1000 sentences, a total of 18.735268354415894 s\n"
     ]
    }
   ],
   "source": [
    "print(\"Translating %s sentences, a total of %s s\"%(len(textos),time2 - time1))"
   ]
  },
  {
   "cell_type": "code",
   "execution_count": 17,
   "metadata": {},
   "outputs": [
    {
     "output_type": "execute_result",
     "data": {
      "text/plain": [
       "36.792225"
      ]
     },
     "metadata": {},
     "execution_count": 17
    }
   ],
   "source": [
    "2.2075335 * 1000/60"
   ]
  },
  {
   "cell_type": "code",
   "execution_count": 19,
   "metadata": {},
   "outputs": [
    {
     "output_type": "execute_result",
     "data": {
      "text/plain": [
       "['Caramel Creams ',\n",
       " 'Potato Chips, Hot Bar-B-Q ',\n",
       " 'Hummus ',\n",
       " 'Fresh Salsa ',\n",
       " \"Shepherd's Pie \",\n",
       " 'LOCAL GICE AUCHAN 400G ',\n",
       " 'Roasted Hummus ',\n",
       " 'Milk Chocolate Rabbit ',\n",
       " 'F.anchois rl.ho 50g.moneg, ',\n",
       " 'The Original Cracker Tub, Salted ']"
      ]
     },
     "metadata": {},
     "execution_count": 19
    }
   ],
   "source": [
    "results[:10]"
   ]
  },
  {
   "cell_type": "code",
   "execution_count": null,
   "metadata": {},
   "outputs": [],
   "source": []
  }
 ]
}