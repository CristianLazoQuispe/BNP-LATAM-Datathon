{
 "metadata": {
  "language_info": {
   "codemirror_mode": {
    "name": "ipython",
    "version": 3
   },
   "file_extension": ".py",
   "mimetype": "text/x-python",
   "name": "python",
   "nbconvert_exporter": "python",
   "pygments_lexer": "ipython3",
   "version": "3.6.9"
  },
  "orig_nbformat": 2,
  "kernelspec": {
   "name": "python3",
   "display_name": "Python 3.6.9  ('env_datathon': venv)",
   "metadata": {
    "interpreter": {
     "hash": "80f73118c9dfb2f14490fabe3e1ea3d229f824b0a33e93fe263c4934c78b8d42"
    }
   }
  }
 },
 "nbformat": 4,
 "nbformat_minor": 2,
 "cells": [
  {
   "cell_type": "code",
   "execution_count": 1,
   "metadata": {},
   "outputs": [],
   "source": [
    "import matplotlib.pyplot as plt\n",
    "import numpy as np\n",
    "import pandas as pd\n",
    "import utils\n"
   ]
  },
  {
   "cell_type": "code",
   "execution_count": 2,
   "metadata": {},
   "outputs": [],
   "source": [
    "train = pd.read_csv(f'./../../Dataset/food_train.tsv', index_col='Index', encoding='utf-8', sep='\\t')\n",
    "X_train = train.drop(columns = 'target')\n",
    "y_train = train.target\n",
    "del train\n",
    "X_test = pd.read_csv(f'./../../Dataset/food_X_test.tsv', index_col='Index', encoding='latin', sep='\\t')\n",
    "y_test_submission_example = pd.read_csv(f'./../../Dataset/y_test_submission_example.tsv', index_col='Index', encoding='utf-8', sep='\\t')"
   ]
  },
  {
   "cell_type": "code",
   "execution_count": 3,
   "metadata": {},
   "outputs": [
    {
     "output_type": "stream",
     "name": "stdout",
     "text": [
      "Train init shape  (102028, 57)\n",
      "Test  init shape  (25508, 57)\n",
      "has  82.84686556631513 % null elements -> deleting .. generic_name\n",
      "has  70.76684831614851 % null elements -> deleting .. quantity\n",
      "has  74.81181636413532 % null elements -> deleting .. packaging\n",
      "has  74.8127964872388 % null elements -> deleting .. packaging_tags\n",
      "has  70.80507311718351 % null elements -> deleting .. categories\n",
      "has  70.80507311718351 % null elements -> deleting .. categories_tags\n",
      "has  70.80507311718351 % null elements -> deleting .. categories_en\n",
      "has  93.74877484612068 % null elements -> deleting .. origins\n",
      "has  93.75269533853452 % null elements -> deleting .. origins_tags\n",
      "has  87.8680362253499 % null elements -> deleting .. manufacturing_places\n",
      "has  87.8680362253499 % null elements -> deleting .. manufacturing_places_tags\n",
      "has  82.01964166699337 % null elements -> deleting .. labels\n",
      "has  81.98729760457914 % null elements -> deleting .. labels_tags\n",
      "has  81.98729760457914 % null elements -> deleting .. labels_en\n",
      "has  90.1693652722782 % null elements -> deleting .. emb_codes\n",
      "has  90.17034539538166 % null elements -> deleting .. emb_codes_tags\n",
      "has  93.4429764378406 % null elements -> deleting .. first_packaging_code_geo\n",
      "has  100.0 % null elements -> deleting .. cities\n",
      "has  92.93331242404047 % null elements -> deleting .. cities_tags\n",
      "has  80.74842200180342 % null elements -> deleting .. purchase_places\n",
      "has  82.71748931665817 % null elements -> deleting .. stores\n",
      "has  87.28878347120398 % null elements -> deleting .. allergens\n",
      "has  100.0 % null elements -> deleting .. allergens_en\n",
      "has  90.37911161641901 % null elements -> deleting .. traces\n",
      "has  90.38009173952248 % null elements -> deleting .. traces_tags\n",
      "has  90.38009173952248 % null elements -> deleting .. traces_en\n",
      "has  100.0 % null elements -> deleting .. no_nutriments\n",
      "has  100.0 % null elements -> deleting .. ingredients_from_palm_oil\n",
      "has  97.65064492100208 % null elements -> deleting .. ingredients_from_palm_oil_tags\n",
      "has  100.0 % null elements -> deleting .. ingredients_that_may_be_from_palm_oil\n",
      "has  95.30423021131455 % null elements -> deleting .. ingredients_that_may_be_from_palm_oil_tags\n",
      "has  61.684047516368054 % null elements -> deleting .. pnns_groups_1\n",
      "has  61.65856431567804 % null elements -> deleting .. pnns_groups_2\n",
      "has  70.80507311718351 % null elements -> deleting .. main_category\n",
      "has  70.80507311718351 % null elements -> deleting .. main_category_en\n",
      "Train final shape (102028, 22)\n",
      "Test  final shape (25508, 22)\n"
     ]
    }
   ],
   "source": [
    "X_train,X_test = utils.clean_null(X_train,X_test,0.5)\n",
    "# remove brands_tags\n",
    "X_train.drop(columns =['brands_tags'],inplace= True)\n",
    "X_test.drop(columns =['brands_tags'],inplace= True)\n"
   ]
  },
  {
   "cell_type": "code",
   "execution_count": 4,
   "metadata": {},
   "outputs": [
    {
     "output_type": "stream",
     "name": "stdout",
     "text": [
      "********************train********************\n",
      "shape  (102028, 21)\n",
      "********************test********************\n",
      "shape  (25508, 21)\n",
      "**********numerics**********\n"
     ]
    },
    {
     "output_type": "display_data",
     "data": {
      "text/plain": "                                           count          mean           std  \\\ncreated_t                                25508.0  1.475883e+09  3.107721e+07   \nlast_modified_t                          25508.0  1.485848e+09  1.674066e+07   \nadditives_n                              23016.0  1.895116e+00  2.480975e+00   \ningredients_from_palm_oil_n              23016.0  2.845846e-02  1.693888e-01   \ningredients_that_may_be_from_palm_oil_n  23016.0  6.612791e-02  3.013009e-01   \n\n                                                  min           25%  \\\ncreated_t                                1.329342e+09  1.480619e+09   \nlast_modified_t                          1.341240e+09  1.489053e+09   \nadditives_n                              0.000000e+00  0.000000e+00   \ningredients_from_palm_oil_n              0.000000e+00  0.000000e+00   \ningredients_that_may_be_from_palm_oil_n  0.000000e+00  0.000000e+00   \n\n                                                  50%           75%  \\\ncreated_t                                1.489067e+09  1.489133e+09   \nlast_modified_t                          1.489076e+09  1.489144e+09   \nadditives_n                              1.000000e+00  3.000000e+00   \ningredients_from_palm_oil_n              0.000000e+00  0.000000e+00   \ningredients_that_may_be_from_palm_oil_n  0.000000e+00  0.000000e+00   \n\n                                                  max  unique  nulls  \\\ncreated_t                                1.505683e+09   23386      0   \nlast_modified_t                          1.505683e+09   23323      0   \nadditives_n                              2.700000e+01      25   2492   \ningredients_from_palm_oil_n              2.000000e+00       3   2492   \ningredients_that_may_be_from_palm_oil_n  6.000000e+00       6   2492   \n\n                                         nulls_perc  \ncreated_t                                  0.000000  \nlast_modified_t                            0.000000  \nadditives_n                                0.097695  \ningredients_from_palm_oil_n                0.097695  \ningredients_that_may_be_from_palm_oil_n    0.097695  ",
      "text/html": "<div>\n<style scoped>\n    .dataframe tbody tr th:only-of-type {\n        vertical-align: middle;\n    }\n\n    .dataframe tbody tr th {\n        vertical-align: top;\n    }\n\n    .dataframe thead th {\n        text-align: right;\n    }\n</style>\n<table border=\"1\" class=\"dataframe\">\n  <thead>\n    <tr style=\"text-align: right;\">\n      <th></th>\n      <th>count</th>\n      <th>mean</th>\n      <th>std</th>\n      <th>min</th>\n      <th>25%</th>\n      <th>50%</th>\n      <th>75%</th>\n      <th>max</th>\n      <th>unique</th>\n      <th>nulls</th>\n      <th>nulls_perc</th>\n    </tr>\n  </thead>\n  <tbody>\n    <tr>\n      <th>created_t</th>\n      <td>25508.0</td>\n      <td>1.475883e+09</td>\n      <td>3.107721e+07</td>\n      <td>1.329342e+09</td>\n      <td>1.480619e+09</td>\n      <td>1.489067e+09</td>\n      <td>1.489133e+09</td>\n      <td>1.505683e+09</td>\n      <td>23386</td>\n      <td>0</td>\n      <td>0.000000</td>\n    </tr>\n    <tr>\n      <th>last_modified_t</th>\n      <td>25508.0</td>\n      <td>1.485848e+09</td>\n      <td>1.674066e+07</td>\n      <td>1.341240e+09</td>\n      <td>1.489053e+09</td>\n      <td>1.489076e+09</td>\n      <td>1.489144e+09</td>\n      <td>1.505683e+09</td>\n      <td>23323</td>\n      <td>0</td>\n      <td>0.000000</td>\n    </tr>\n    <tr>\n      <th>additives_n</th>\n      <td>23016.0</td>\n      <td>1.895116e+00</td>\n      <td>2.480975e+00</td>\n      <td>0.000000e+00</td>\n      <td>0.000000e+00</td>\n      <td>1.000000e+00</td>\n      <td>3.000000e+00</td>\n      <td>2.700000e+01</td>\n      <td>25</td>\n      <td>2492</td>\n      <td>0.097695</td>\n    </tr>\n    <tr>\n      <th>ingredients_from_palm_oil_n</th>\n      <td>23016.0</td>\n      <td>2.845846e-02</td>\n      <td>1.693888e-01</td>\n      <td>0.000000e+00</td>\n      <td>0.000000e+00</td>\n      <td>0.000000e+00</td>\n      <td>0.000000e+00</td>\n      <td>2.000000e+00</td>\n      <td>3</td>\n      <td>2492</td>\n      <td>0.097695</td>\n    </tr>\n    <tr>\n      <th>ingredients_that_may_be_from_palm_oil_n</th>\n      <td>23016.0</td>\n      <td>6.612791e-02</td>\n      <td>3.013009e-01</td>\n      <td>0.000000e+00</td>\n      <td>0.000000e+00</td>\n      <td>0.000000e+00</td>\n      <td>0.000000e+00</td>\n      <td>6.000000e+00</td>\n      <td>6</td>\n      <td>2492</td>\n      <td>0.097695</td>\n    </tr>\n  </tbody>\n</table>\n</div>"
     },
     "metadata": {}
    },
    {
     "output_type": "stream",
     "name": "stdout",
     "text": [
      "**********categorical**********\n"
     ]
    },
    {
     "output_type": "display_data",
     "data": {
      "text/plain": "                        count unique  \\\ncreator                 25508    806   \ncreated_datetime        25508  23386   \nlast_modified_datetime  25508  23323   \nproduct_name            25236  22577   \nbrands                  24999  11027   \ncountries               25500    290   \ncountries_tags          25500    173   \ncountries_en            25500    173   \ningredients_text        23016  21999   \nserving_size            17907   5171   \nadditives               23014  21656   \nadditives_tags          14158   5945   \nadditives_en            14158   5945   \nstates                  25508    252   \nstates_tags             25508    252   \nstates_en               25508    252   \n\n                                                                      top  \\\ncreator                                                   usda-ndb-import   \ncreated_datetime                                     2017-03-09T10:45:47Z   \nlast_modified_datetime                               2015-08-09T17:35:52Z   \nproduct_name                                                    Ice Cream   \nbrands                                                          Carrefour   \ncountries                                                              US   \ncountries_tags                                           en:united-states   \ncountries_en                                                United States   \ningredients_text        Semolina (wheat), durum flour (wheat), niacin,...   \nserving_size                                                  28 g (1 oz)   \nadditives                                     [ almonds -> en:almonds  ]    \nadditives_tags                                           en:e322,en:e322i   \nadditives_en                            E322 - Lecithins,E322i - Lecithin   \nstates                  en:to-be-completed, en:nutrition-facts-complet...   \nstates_tags             en:to-be-completed,en:nutrition-facts-complete...   \nstates_en               To be completed,Nutrition facts completed,Ingr...   \n\n                         freq  nulls  nulls_perc  \ncreator                 13483      0    0.000000  \ncreated_datetime            5      0    0.000000  \nlast_modified_datetime      4      0    0.000000  \nproduct_name               46    272    0.010663  \nbrands                    336    509    0.019955  \ncountries               13478      8    0.000314  \ncountries_tags          13629      8    0.000314  \ncountries_en            13629      8    0.000314  \ningredients_text           19   2492    0.097695  \nserving_size              447   7601    0.297985  \nadditives                  24   2494    0.097773  \nadditives_tags            764  11350    0.444958  \nadditives_en              764  11350    0.444958  \nstates                  13332      0    0.000000  \nstates_tags             13332      0    0.000000  \nstates_en               13332      0    0.000000  ",
      "text/html": "<div>\n<style scoped>\n    .dataframe tbody tr th:only-of-type {\n        vertical-align: middle;\n    }\n\n    .dataframe tbody tr th {\n        vertical-align: top;\n    }\n\n    .dataframe thead th {\n        text-align: right;\n    }\n</style>\n<table border=\"1\" class=\"dataframe\">\n  <thead>\n    <tr style=\"text-align: right;\">\n      <th></th>\n      <th>count</th>\n      <th>unique</th>\n      <th>top</th>\n      <th>freq</th>\n      <th>nulls</th>\n      <th>nulls_perc</th>\n    </tr>\n  </thead>\n  <tbody>\n    <tr>\n      <th>creator</th>\n      <td>25508</td>\n      <td>806</td>\n      <td>usda-ndb-import</td>\n      <td>13483</td>\n      <td>0</td>\n      <td>0.000000</td>\n    </tr>\n    <tr>\n      <th>created_datetime</th>\n      <td>25508</td>\n      <td>23386</td>\n      <td>2017-03-09T10:45:47Z</td>\n      <td>5</td>\n      <td>0</td>\n      <td>0.000000</td>\n    </tr>\n    <tr>\n      <th>last_modified_datetime</th>\n      <td>25508</td>\n      <td>23323</td>\n      <td>2015-08-09T17:35:52Z</td>\n      <td>4</td>\n      <td>0</td>\n      <td>0.000000</td>\n    </tr>\n    <tr>\n      <th>product_name</th>\n      <td>25236</td>\n      <td>22577</td>\n      <td>Ice Cream</td>\n      <td>46</td>\n      <td>272</td>\n      <td>0.010663</td>\n    </tr>\n    <tr>\n      <th>brands</th>\n      <td>24999</td>\n      <td>11027</td>\n      <td>Carrefour</td>\n      <td>336</td>\n      <td>509</td>\n      <td>0.019955</td>\n    </tr>\n    <tr>\n      <th>countries</th>\n      <td>25500</td>\n      <td>290</td>\n      <td>US</td>\n      <td>13478</td>\n      <td>8</td>\n      <td>0.000314</td>\n    </tr>\n    <tr>\n      <th>countries_tags</th>\n      <td>25500</td>\n      <td>173</td>\n      <td>en:united-states</td>\n      <td>13629</td>\n      <td>8</td>\n      <td>0.000314</td>\n    </tr>\n    <tr>\n      <th>countries_en</th>\n      <td>25500</td>\n      <td>173</td>\n      <td>United States</td>\n      <td>13629</td>\n      <td>8</td>\n      <td>0.000314</td>\n    </tr>\n    <tr>\n      <th>ingredients_text</th>\n      <td>23016</td>\n      <td>21999</td>\n      <td>Semolina (wheat), durum flour (wheat), niacin,...</td>\n      <td>19</td>\n      <td>2492</td>\n      <td>0.097695</td>\n    </tr>\n    <tr>\n      <th>serving_size</th>\n      <td>17907</td>\n      <td>5171</td>\n      <td>28 g (1 oz)</td>\n      <td>447</td>\n      <td>7601</td>\n      <td>0.297985</td>\n    </tr>\n    <tr>\n      <th>additives</th>\n      <td>23014</td>\n      <td>21656</td>\n      <td>[ almonds -&gt; en:almonds  ]</td>\n      <td>24</td>\n      <td>2494</td>\n      <td>0.097773</td>\n    </tr>\n    <tr>\n      <th>additives_tags</th>\n      <td>14158</td>\n      <td>5945</td>\n      <td>en:e322,en:e322i</td>\n      <td>764</td>\n      <td>11350</td>\n      <td>0.444958</td>\n    </tr>\n    <tr>\n      <th>additives_en</th>\n      <td>14158</td>\n      <td>5945</td>\n      <td>E322 - Lecithins,E322i - Lecithin</td>\n      <td>764</td>\n      <td>11350</td>\n      <td>0.444958</td>\n    </tr>\n    <tr>\n      <th>states</th>\n      <td>25508</td>\n      <td>252</td>\n      <td>en:to-be-completed, en:nutrition-facts-complet...</td>\n      <td>13332</td>\n      <td>0</td>\n      <td>0.000000</td>\n    </tr>\n    <tr>\n      <th>states_tags</th>\n      <td>25508</td>\n      <td>252</td>\n      <td>en:to-be-completed,en:nutrition-facts-complete...</td>\n      <td>13332</td>\n      <td>0</td>\n      <td>0.000000</td>\n    </tr>\n    <tr>\n      <th>states_en</th>\n      <td>25508</td>\n      <td>252</td>\n      <td>To be completed,Nutrition facts completed,Ingr...</td>\n      <td>13332</td>\n      <td>0</td>\n      <td>0.000000</td>\n    </tr>\n  </tbody>\n</table>\n</div>"
     },
     "metadata": {}
    }
   ],
   "source": [
    "train_numeric_desc,train_categorical_desc = utils.my_df_describe(X_train,'train',show=False)\n",
    "test_numeric_desc,test_categorical_desc = utils.my_df_describe(X_test,'test')"
   ]
  },
  {
   "cell_type": "code",
   "execution_count": 5,
   "metadata": {},
   "outputs": [],
   "source": [
    "total_dataset = pd.concat([X_train,X_test])"
   ]
  },
  {
   "cell_type": "code",
   "execution_count": 6,
   "metadata": {},
   "outputs": [
    {
     "output_type": "execute_result",
     "data": {
      "text/plain": [
       "       countries countries2\n",
       "Index                      \n",
       "104815        US         US\n",
       "62513         US         US\n",
       "111040        US         US"
      ],
      "text/html": "<div>\n<style scoped>\n    .dataframe tbody tr th:only-of-type {\n        vertical-align: middle;\n    }\n\n    .dataframe tbody tr th {\n        vertical-align: top;\n    }\n\n    .dataframe thead th {\n        text-align: right;\n    }\n</style>\n<table border=\"1\" class=\"dataframe\">\n  <thead>\n    <tr style=\"text-align: right;\">\n      <th></th>\n      <th>countries</th>\n      <th>countries2</th>\n    </tr>\n    <tr>\n      <th>Index</th>\n      <th></th>\n      <th></th>\n    </tr>\n  </thead>\n  <tbody>\n    <tr>\n      <th>104815</th>\n      <td>US</td>\n      <td>US</td>\n    </tr>\n    <tr>\n      <th>62513</th>\n      <td>US</td>\n      <td>US</td>\n    </tr>\n    <tr>\n      <th>111040</th>\n      <td>US</td>\n      <td>US</td>\n    </tr>\n  </tbody>\n</table>\n</div>"
     },
     "metadata": {},
     "execution_count": 6
    }
   ],
   "source": [
    "total_dataset['countries2'] = total_dataset['countries'].apply(utils.process_countries)\n",
    "total_dataset[['countries','countries2']].head(3)\n"
   ]
  },
  {
   "cell_type": "code",
   "execution_count": 7,
   "metadata": {},
   "outputs": [
    {
     "output_type": "execute_result",
     "data": {
      "text/plain": [
       "                                                additives  \\\n",
       "Index                                                       \n",
       "104815   [ wheat-flour -> en:wheat-flour  ]  [ flour -...   \n",
       "62513    [ select-potatoes -> en:select-potatoes  ]  [...   \n",
       "111040   [ chickpeas -> en:chickpeas  ]  [ water -> en...   \n",
       "\n",
       "                                               additives2  \n",
       "Index                                                      \n",
       "104815   wheat-flour,flour,corn-syrup,syrup,dextrose,s...  \n",
       "62513    select-potatoes,potatoes,vegetable-shortening...  \n",
       "111040   chickpeas,water,vegetable-oil,oil,soy,olive,s...  "
      ],
      "text/html": "<div>\n<style scoped>\n    .dataframe tbody tr th:only-of-type {\n        vertical-align: middle;\n    }\n\n    .dataframe tbody tr th {\n        vertical-align: top;\n    }\n\n    .dataframe thead th {\n        text-align: right;\n    }\n</style>\n<table border=\"1\" class=\"dataframe\">\n  <thead>\n    <tr style=\"text-align: right;\">\n      <th></th>\n      <th>additives</th>\n      <th>additives2</th>\n    </tr>\n    <tr>\n      <th>Index</th>\n      <th></th>\n      <th></th>\n    </tr>\n  </thead>\n  <tbody>\n    <tr>\n      <th>104815</th>\n      <td>[ wheat-flour -&gt; en:wheat-flour  ]  [ flour -...</td>\n      <td>wheat-flour,flour,corn-syrup,syrup,dextrose,s...</td>\n    </tr>\n    <tr>\n      <th>62513</th>\n      <td>[ select-potatoes -&gt; en:select-potatoes  ]  [...</td>\n      <td>select-potatoes,potatoes,vegetable-shortening...</td>\n    </tr>\n    <tr>\n      <th>111040</th>\n      <td>[ chickpeas -&gt; en:chickpeas  ]  [ water -&gt; en...</td>\n      <td>chickpeas,water,vegetable-oil,oil,soy,olive,s...</td>\n    </tr>\n  </tbody>\n</table>\n</div>"
     },
     "metadata": {},
     "execution_count": 7
    }
   ],
   "source": [
    "total_dataset['additives2'] = total_dataset['additives'].apply(utils.process_aditives)\n",
    "total_dataset[['additives','additives2']].head(3)\n"
   ]
  },
  {
   "cell_type": "code",
   "execution_count": 8,
   "metadata": {},
   "outputs": [
    {
     "output_type": "stream",
     "name": "stderr",
     "text": [
      "Warning : `load_model` does not return WordVectorModel or SupervisedModel any more, but a `FastText` object which is very similar.\n"
     ]
    }
   ],
   "source": [
    "PRETRAINED_MODEL_PATH = './../../../Models/lid.176.bin'\n",
    "bnp_process_text = utils.bnp_process_text(PRETRAINED_MODEL_PATH)\n"
   ]
  },
  {
   "cell_type": "code",
   "execution_count": 9,
   "metadata": {},
   "outputs": [],
   "source": [
    "total_dataset['brands_language'] = total_dataset['brands'].apply(bnp_process_text.get_language_fasttext)"
   ]
  },
  {
   "cell_type": "code",
   "execution_count": 10,
   "metadata": {},
   "outputs": [
    {
     "output_type": "execute_result",
     "data": {
      "text/plain": [
       "en     79598\n",
       "fr     16282\n",
       "it      5798\n",
       "de      5296\n",
       "es      4302\n",
       "       ...  \n",
       "bg         1\n",
       "mrj        1\n",
       "hy         1\n",
       "vec        1\n",
       "pms        1\n",
       "Name: brands_language, Length: 100, dtype: int64"
      ]
     },
     "metadata": {},
     "execution_count": 10
    }
   ],
   "source": [
    "total_dataset['brands_language'].value_counts()"
   ]
  },
  {
   "cell_type": "code",
   "execution_count": 11,
   "metadata": {},
   "outputs": [
    {
     "output_type": "execute_result",
     "data": {
      "text/plain": [
       "Index\n",
       "160769                  Auchan\n",
       "114984           Le Monegasque\n",
       "78892                  Lesieur\n",
       "16097          Phare d'Eckmühl\n",
       "86502           Creperie Colas\n",
       "                  ...         \n",
       "40077             Ferme Collet\n",
       "45715                Carrefour\n",
       "89822          Le Petit Basque\n",
       "92416                   Auchan\n",
       "156235    Moissons de la terre\n",
       "Name: brands, Length: 16282, dtype: object"
      ]
     },
     "metadata": {},
     "execution_count": 11
    }
   ],
   "source": [
    "total_dataset['brands'][total_dataset['brands_language']=='fr']"
   ]
  },
  {
   "cell_type": "code",
   "execution_count": 13,
   "metadata": {},
   "outputs": [
    {
     "output_type": "execute_result",
     "data": {
      "text/plain": [
       "       countries brands_language\n",
       "Index                           \n",
       "104815        US              en\n",
       "62513         US              en\n",
       "111040        US              en\n",
       "62964         US              de\n",
       "57032         US              en\n",
       "...          ...             ...\n",
       "27754         US              en\n",
       "31027         US              en\n",
       "111633    France              en\n",
       "174043    France              de\n",
       "14465     Suisse             NaN\n",
       "\n",
       "[127536 rows x 2 columns]"
      ],
      "text/html": "<div>\n<style scoped>\n    .dataframe tbody tr th:only-of-type {\n        vertical-align: middle;\n    }\n\n    .dataframe tbody tr th {\n        vertical-align: top;\n    }\n\n    .dataframe thead th {\n        text-align: right;\n    }\n</style>\n<table border=\"1\" class=\"dataframe\">\n  <thead>\n    <tr style=\"text-align: right;\">\n      <th></th>\n      <th>countries</th>\n      <th>brands_language</th>\n    </tr>\n    <tr>\n      <th>Index</th>\n      <th></th>\n      <th></th>\n    </tr>\n  </thead>\n  <tbody>\n    <tr>\n      <th>104815</th>\n      <td>US</td>\n      <td>en</td>\n    </tr>\n    <tr>\n      <th>62513</th>\n      <td>US</td>\n      <td>en</td>\n    </tr>\n    <tr>\n      <th>111040</th>\n      <td>US</td>\n      <td>en</td>\n    </tr>\n    <tr>\n      <th>62964</th>\n      <td>US</td>\n      <td>de</td>\n    </tr>\n    <tr>\n      <th>57032</th>\n      <td>US</td>\n      <td>en</td>\n    </tr>\n    <tr>\n      <th>...</th>\n      <td>...</td>\n      <td>...</td>\n    </tr>\n    <tr>\n      <th>27754</th>\n      <td>US</td>\n      <td>en</td>\n    </tr>\n    <tr>\n      <th>31027</th>\n      <td>US</td>\n      <td>en</td>\n    </tr>\n    <tr>\n      <th>111633</th>\n      <td>France</td>\n      <td>en</td>\n    </tr>\n    <tr>\n      <th>174043</th>\n      <td>France</td>\n      <td>de</td>\n    </tr>\n    <tr>\n      <th>14465</th>\n      <td>Suisse</td>\n      <td>NaN</td>\n    </tr>\n  </tbody>\n</table>\n<p>127536 rows × 2 columns</p>\n</div>"
     },
     "metadata": {},
     "execution_count": 13
    }
   ],
   "source": [
    "total_dataset[['countries','brands_language']]"
   ]
  },
  {
   "cell_type": "code",
   "execution_count": null,
   "metadata": {},
   "outputs": [],
   "source": []
  },
  {
   "cell_type": "code",
   "execution_count": null,
   "metadata": {},
   "outputs": [],
   "source": []
  },
  {
   "cell_type": "code",
   "execution_count": null,
   "metadata": {},
   "outputs": [],
   "source": []
  },
  {
   "cell_type": "code",
   "execution_count": null,
   "metadata": {},
   "outputs": [],
   "source": []
  }
 ]
}