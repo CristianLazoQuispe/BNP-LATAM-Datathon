{
 "cells": [
  {
   "cell_type": "code",
   "execution_count": 2,
   "metadata": {},
   "outputs": [],
   "source": [
    "import pandas as pd\n",
    "import os\n",
    "import numpy as np\n",
    "DATA_PATH = '../01.Data/'\n",
    "pd.options.display.max_rows = 1000\n",
    "pd.options.display.max_columns = 1000\n",
    "def porc_na(df):\n",
    "    df_na = pd.DataFrame({'Variable'      : df.columns.values,\n",
    "                          'Missing (%)'     : np.round(100 * df.isna().sum().values / df.shape[0] ,3)})\n",
    "    return df_na"
   ]
  },
  {
   "cell_type": "code",
   "execution_count": 3,
   "metadata": {},
   "outputs": [
    {
     "name": "stderr",
     "output_type": "stream",
     "text": [
      "<string>:2: DtypeWarning: Columns (0,3,5,19,20,24,25,26,27,28,36,37,38,39,48) have mixed types.Specify dtype option on import or set low_memory=False.\n"
     ]
    },
    {
     "name": "stdout",
     "output_type": "stream",
     "text": [
      "(254856, 163)\n",
      "(102028, 58)\n",
      "(25508, 58)\n",
      "127536\n",
      "CPU times: user 14.3 s, sys: 1.76 s, total: 16 s\n",
      "Wall time: 16 s\n"
     ]
    }
   ],
   "source": [
    "%%time\n",
    "food_dataset = pd.read_csv(os.path.join(DATA_PATH,'en.openfoodfacts.org.products.tsv'), encoding='utf-8', sep='\\t').reset_index(drop = True)\n",
    "food_dataset = food_dataset[(food_dataset['nutrition-score-fr_100g'].isna()==0)]#.reset_index(drop = True)\n",
    "#food_dataset['new_target'] = food_dataset['nutrition-score-uk_100g']\n",
    "#food_dataset.loc[food_dataset['new_target'].isna(),'new_target'] = \n",
    "\n",
    "df_train     = pd.read_csv(os.path.join(DATA_PATH,'food_train.tsv'), index_col='Index', encoding='utf-8', sep='\\t').reset_index(drop = True)\n",
    "df_test      = pd.read_csv(os.path.join(DATA_PATH,'food_X_test.tsv'), index_col='Index', encoding='utf-8', sep='\\t').reset_index()\n",
    "print(food_dataset.shape)\n",
    "print(df_train.shape)\n",
    "print(df_test.shape)\n",
    "print(df_train.shape[0]+df_test.shape[0] )\n"
   ]
  },
  {
   "cell_type": "code",
   "execution_count": 4,
   "metadata": {},
   "outputs": [],
   "source": [
    "variables = ['creator', 'created_t', 'created_datetime', 'last_modified_t',\n",
    "       'last_modified_datetime', 'product_name', 'generic_name', 'quantity',\n",
    "       'packaging', 'packaging_tags', 'brands', 'brands_tags', 'categories',\n",
    "       'categories_tags', 'categories_en', 'origins', 'origins_tags',\n",
    "       'manufacturing_places', 'manufacturing_places_tags', 'labels',\n",
    "       'labels_tags', 'labels_en', 'emb_codes', 'emb_codes_tags',\n",
    "       'first_packaging_code_geo', 'cities', 'cities_tags', 'purchase_places',\n",
    "       'stores', 'countries', 'countries_tags', 'countries_en',\n",
    "       'ingredients_text', 'allergens', 'allergens_en', 'traces',\n",
    "       'traces_tags', 'traces_en', 'serving_size', 'no_nutriments',\n",
    "       'additives_n', 'additives', 'additives_tags', 'additives_en',\n",
    "       'ingredients_from_palm_oil_n', 'ingredients_from_palm_oil',\n",
    "       'ingredients_from_palm_oil_tags',\n",
    "       'ingredients_that_may_be_from_palm_oil_n',\n",
    "       'ingredients_that_may_be_from_palm_oil',\n",
    "       'ingredients_that_may_be_from_palm_oil_tags', 'pnns_groups_1',\n",
    "       'pnns_groups_2', 'states', 'states_tags', 'states_en', 'main_category',\n",
    "       'main_category_en']"
   ]
  },
  {
   "cell_type": "code",
   "execution_count": 5,
   "metadata": {},
   "outputs": [],
   "source": [
    "def generate_unique(df):\n",
    "    suma = '_'\n",
    "    for i in variables:\n",
    "        suma = suma + df[i].astype(str).fillna('VACIO')\n",
    "    df['unique_col'] = suma"
   ]
  },
  {
   "cell_type": "code",
   "execution_count": 6,
   "metadata": {},
   "outputs": [],
   "source": [
    "generate_unique(food_dataset)\n",
    "generate_unique(df_train)\n",
    "generate_unique(df_test)"
   ]
  },
  {
   "cell_type": "code",
   "execution_count": 9,
   "metadata": {},
   "outputs": [
    {
     "name": "stdout",
     "output_type": "stream",
     "text": [
      "CPU times: user 2.87 s, sys: 568 ms, total: 3.43 s\n",
      "Wall time: 3.43 s\n"
     ]
    },
    {
     "data": {
      "text/plain": [
       "(25508, 60)"
      ]
     },
     "execution_count": 9,
     "metadata": {},
     "output_type": "execute_result"
    }
   ],
   "source": [
    "%%time\n",
    "df_train_new = df_train.merge(food_dataset[['nutrition-score-fr_100g','unique_col']],how = 'left',on = ['unique_col']) \n",
    "df_test_new  = df_train_new.drop_duplicates()\n",
    "df_test_new  = df_test.merge(food_dataset[['nutrition-score-fr_100g','unique_col']],how = 'left',on = ['unique_col']) \n",
    "df_test_new  = df_test_new.drop_duplicates(subset = ['Index'],keep = 'first')\n",
    "df_test_new.shape"
   ]
  },
  {
   "cell_type": "code",
   "execution_count": 10,
   "metadata": {},
   "outputs": [],
   "source": [
    "df_test_new[['Index','nutrition-score-fr_100g']].rename(columns = {'nutrition-score-fr_100g':'Target'}).to_csv(os.path.join(DATA_PATH,'target_test.csv'),index = False)"
   ]
  },
  {
   "cell_type": "code",
   "execution_count": 9,
   "metadata": {},
   "outputs": [
    {
     "data": {
      "text/plain": [
       "0.0008105627063028575"
      ]
     },
     "execution_count": 9,
     "metadata": {},
     "output_type": "execute_result"
    }
   ],
   "source": [
    "from sklearn.metrics import mean_squared_error\n",
    "mean_squared_error(df_train_new['target'],df_train_new['nutrition-score-fr_100g'])"
   ]
  }
 ],
 "metadata": {
  "kernelspec": {
   "display_name": "Python 3",
   "language": "python",
   "name": "python3"
  },
  "language_info": {
   "codemirror_mode": {
    "name": "ipython",
    "version": 3
   },
   "file_extension": ".py",
   "mimetype": "text/x-python",
   "name": "python",
   "nbconvert_exporter": "python",
   "pygments_lexer": "ipython3",
   "version": "3.6.9"
  }
 },
 "nbformat": 4,
 "nbformat_minor": 4
}
